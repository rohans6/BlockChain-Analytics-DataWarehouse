{
 "cells": [
  {
   "cell_type": "code",
   "execution_count": 1,
   "id": "63f8f92a",
   "metadata": {},
   "outputs": [
    {
     "name": "stdout",
     "output_type": "stream",
     "text": [
      "/d/DataScience/Projects/BlockChain-Analytics-DataWarehouse/venv/Scripts/python\n"
     ]
    }
   ],
   "source": [
    "!which python\n"
   ]
  },
  {
   "cell_type": "code",
   "execution_count": 5,
   "id": "5fd64ff6",
   "metadata": {},
   "outputs": [],
   "source": [
    "# Import necessary libraries\n",
    "import requests\n",
    "from bs4 import BeautifulSoup"
   ]
  },
  {
   "cell_type": "code",
   "execution_count": 6,
   "id": "34388b52",
   "metadata": {},
   "outputs": [],
   "source": [
    "url = \"https://etherscan.io/txs\"\n",
    "\n",
    "# Fetch the page\n",
    "response = requests.get(url)\n",
    "soup = BeautifulSoup(response.text, 'html.parser')"
   ]
  },
  {
   "cell_type": "code",
   "execution_count": 16,
   "id": "30da24eb",
   "metadata": {},
   "outputs": [],
   "source": [
    "url=\"https://api.etherscan.io/v2/api?chainid=1&module=account&action=balance&address=0xde0b295669a9fd93d5f28d9ec85e40f4cb697bae&tag=latest&apikey=NE27DZAMQTJEPP1ZJBIHVRNH1K91YFDXJD\"\n",
    "response = requests.get(url)\n",
    "soup = BeautifulSoup(response.text, 'html.parser')"
   ]
  },
  {
   "cell_type": "code",
   "execution_count": 17,
   "id": "e1405012",
   "metadata": {},
   "outputs": [
    {
     "data": {
      "text/plain": [
       "{\"status\":\"1\",\"message\":\"OK\",\"result\":\"269274190106949868382540\"}"
      ]
     },
     "execution_count": 17,
     "metadata": {},
     "output_type": "execute_result"
    }
   ],
   "source": [
    "soup"
   ]
  },
  {
   "cell_type": "code",
   "execution_count": 9,
   "id": "0ca40867",
   "metadata": {},
   "outputs": [],
   "source": [
    "transactions=[]\n",
    "for row in soup.find_all('tr')[1:]:  # Skip header row\n",
    "    cols = row.find_all('td')\n",
    "    transactions.append({\n",
    "        'Transaction Hash': cols[0].text.strip(),\n",
    "        'Block': cols[1].text.strip(),\n",
    "        'Age': cols[2].text.strip(),\n",
    "        'From': cols[3].text.strip(),\n",
    "        'To': cols[5].text.strip(),\n",
    "        'Value': cols[6].text.strip(),\n",
    "        'Fee': cols[7].text.strip(),\n",
    "    })\n",
    "\n",
    "# Print or save the data"
   ]
  },
  {
   "cell_type": "code",
   "execution_count": 11,
   "id": "dfc8d1fe",
   "metadata": {},
   "outputs": [
    {
     "data": {
      "text/plain": [
       "[]"
      ]
     },
     "execution_count": 11,
     "metadata": {},
     "output_type": "execute_result"
    }
   ],
   "source": [
    "transactions"
   ]
  },
  {
   "cell_type": "code",
   "execution_count": 13,
   "id": "34556fec",
   "metadata": {},
   "outputs": [
    {
     "data": {
      "text/plain": [
       "[]"
      ]
     },
     "execution_count": 13,
     "metadata": {},
     "output_type": "execute_result"
    }
   ],
   "source": [
    "soup.find_all('tr')"
   ]
  },
  {
   "cell_type": "code",
   "execution_count": null,
   "id": "d9a0c156",
   "metadata": {},
   "outputs": [],
   "source": []
  }
 ],
 "metadata": {
  "kernelspec": {
   "display_name": "Python 3 (ipykernel)",
   "language": "python",
   "name": "python3"
  },
  "language_info": {
   "codemirror_mode": {
    "name": "ipython",
    "version": 3
   },
   "file_extension": ".py",
   "mimetype": "text/x-python",
   "name": "python",
   "nbconvert_exporter": "python",
   "pygments_lexer": "ipython3",
   "version": "3.11.4"
  }
 },
 "nbformat": 4,
 "nbformat_minor": 5
}
